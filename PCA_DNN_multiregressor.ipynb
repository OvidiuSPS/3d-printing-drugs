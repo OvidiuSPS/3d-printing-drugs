{
 "cells": [
  {
   "cell_type": "code",
   "execution_count": 4,
   "metadata": {},
   "outputs": [],
   "source": [
    "import pandas as pd\n",
    "\n",
    "# Load the main dataset\n",
    "X = pd.read_csv('X.csv')\n",
    "y = pd.read_csv('y.csv')\n",
    "\n",
    "# Load the column names from the Excel files (assuming they are in the first row)\n",
    "padel_cols = pd.read_excel('Padel_cols.xlsx', header=None).iloc[0].dropna().tolist()\n",
    "spartan_cols = pd.read_excel('Spartan_cols.xlsx', header=None).iloc[0].dropna().tolist()\n",
    "swissadme_cols = pd.read_excel('Swissadme_cols.xlsx', header=None).iloc[0].dropna().tolist()\n"
   ]
  },
  {
   "cell_type": "markdown",
   "metadata": {},
   "source": [
    "Check non-numeric data"
   ]
  },
  {
   "cell_type": "code",
   "execution_count": 5,
   "metadata": {},
   "outputs": [
    {
     "data": {
      "text/plain": [
       "Index(['Primary ID'], dtype='object')"
      ]
     },
     "execution_count": 5,
     "metadata": {},
     "output_type": "execute_result"
    }
   ],
   "source": [
    "non_numeric_columns = X.select_dtypes(exclude=['number']).columns\n",
    "non_numeric_columns"
   ]
  },
  {
   "cell_type": "markdown",
   "metadata": {},
   "source": [
    "Check rows with nans"
   ]
  },
  {
   "cell_type": "code",
   "execution_count": 6,
   "metadata": {},
   "outputs": [],
   "source": [
    "def check_nans(data):\n",
    "    rows_with_nans = data.isnull().any(axis=1)\n",
    "    num_rows_with_nans = rows_with_nans.sum()\n",
    "    total_rows = len(data)\n",
    "    fraction_rows_with_nans = num_rows_with_nans / total_rows\n",
    "\n",
    "    print(f\"Number of rows with NaNs: {num_rows_with_nans}\")\n",
    "    print(f\"Fraction of rows with NaNs: {fraction_rows_with_nans:.2f}\")\n",
    "\n",
    "    # Identify columns with NaNs\n",
    "    columns_with_nans = data.columns[data.isnull().any()].tolist()\n",
    "    num_columns_with_nans = len(columns_with_nans)\n",
    "\n",
    "    print(f\"Columns with NaNs: {columns_with_nans}\")\n",
    "\n",
    "    # Print detailed information about NaNs in each column\n",
    "    nan_info = data.isnull().sum()\n",
    "    print(\"\\nDetailed NaN information:\")\n",
    "    print(nan_info[nan_info > 0])\n",
    "    print(\"Number of columns with nan values:\")\n",
    "    print(f\"{num_columns_with_nans} columns out of the total {len(data.columns)} columns\")"
   ]
  },
  {
   "cell_type": "code",
   "execution_count": 7,
   "metadata": {},
   "outputs": [
    {
     "name": "stdout",
     "output_type": "stream",
     "text": [
      "NANs before standardization\n",
      "Number of rows with NaNs: 0\n",
      "Fraction of rows with NaNs: 0.00\n",
      "Columns with NaNs: []\n",
      "\n",
      "Detailed NaN information:\n",
      "Series([], dtype: int64)\n",
      "Number of columns with nan values:\n",
      "0 columns out of the total 1444 columns\n",
      "NANs after standardization\n",
      "Number of rows with NaNs: 0\n",
      "Fraction of rows with NaNs: 0.00\n",
      "Columns with NaNs: []\n",
      "\n",
      "Detailed NaN information:\n",
      "Series([], dtype: int64)\n",
      "Number of columns with nan values:\n",
      "0 columns out of the total 1079 columns\n",
      "NANs before standardization\n",
      "Number of rows with NaNs: 0\n",
      "Fraction of rows with NaNs: 0.00\n",
      "Columns with NaNs: []\n",
      "\n",
      "Detailed NaN information:\n",
      "Series([], dtype: int64)\n",
      "Number of columns with nan values:\n",
      "0 columns out of the total 23 columns\n",
      "NANs after standardization\n",
      "Number of rows with NaNs: 0\n",
      "Fraction of rows with NaNs: 0.00\n",
      "Columns with NaNs: []\n",
      "\n",
      "Detailed NaN information:\n",
      "Series([], dtype: int64)\n",
      "Number of columns with nan values:\n",
      "0 columns out of the total 23 columns\n",
      "NANs before standardization\n",
      "Number of rows with NaNs: 0\n",
      "Fraction of rows with NaNs: 0.00\n",
      "Columns with NaNs: []\n",
      "\n",
      "Detailed NaN information:\n",
      "Series([], dtype: int64)\n",
      "Number of columns with nan values:\n",
      "0 columns out of the total 37 columns\n",
      "NANs after standardization\n",
      "Number of rows with NaNs: 0\n",
      "Fraction of rows with NaNs: 0.00\n",
      "Columns with NaNs: []\n",
      "\n",
      "Detailed NaN information:\n",
      "Series([], dtype: int64)\n",
      "Number of columns with nan values:\n",
      "0 columns out of the total 35 columns\n",
      "Padel: 9 components retained\n",
      "Spartan: 7 components retained\n",
      "SwissADME: 7 components retained\n"
     ]
    }
   ],
   "source": [
    "from sklearn.decomposition import PCA\n",
    "import numpy as np\n",
    "\n",
    "def perform_pca(X_subset, explained_variance_threshold=0.95):\n",
    "    # Print data nans before standardization\n",
    "    print(\"NANs before standardization\")\n",
    "    check_nans(X_subset)\n",
    "\n",
    "    # Drop zero variance columns\n",
    "    zero_variance_columns = X_subset.loc[:, X_subset.std() == 0].columns\n",
    "    X_subset = X_subset.drop(columns=zero_variance_columns)\n",
    "    \n",
    "    # Standardize the data if necessary\n",
    "    X_standardized = (X_subset - X_subset.mean()) / X_subset.std()\n",
    "\n",
    "    # Print data nans before standardization\n",
    "    print(\"NANs after standardization\")\n",
    "    check_nans(X_standardized)\n",
    "\n",
    "    # Initialize PCA\n",
    "    pca = PCA()\n",
    "\n",
    "    # Fit PCA\n",
    "    pca.fit(X_standardized)\n",
    "\n",
    "    # Calculate cumulative explained variance\n",
    "    cum_var_explained = np.cumsum(pca.explained_variance_ratio_)\n",
    "    \n",
    "    # Determine the number of components needed to reach the explained variance threshold\n",
    "    num_components = np.argmax(cum_var_explained >= explained_variance_threshold) + 1\n",
    "    \n",
    "    # Apply PCA with the selected number of components\n",
    "    pca = PCA(n_components=num_components)\n",
    "    X_pca = pca.fit_transform(X_standardized)\n",
    "    \n",
    "    return X_pca, num_components, pca.explained_variance_ratio_\n",
    "\n",
    "# Perform PCA on each set of columns\n",
    "X_padel_pca, padel_n_components, padel_variance_ratio = perform_pca(X[padel_cols])\n",
    "X_spartan_pca, spartan_n_components, spartan_variance_ratio = perform_pca(X[spartan_cols])\n",
    "X_swissadme_pca, swissadme_n_components, swissadme_variance_ratio = perform_pca(X[swissadme_cols])\n",
    "\n",
    "# Display the number of components retained\n",
    "print(f\"Padel: {padel_n_components} components retained\")\n",
    "print(f\"Spartan: {spartan_n_components} components retained\")\n",
    "print(f\"SwissADME: {swissadme_n_components} components retained\")\n"
   ]
  },
  {
   "cell_type": "markdown",
   "metadata": {},
   "source": [
    "After performing PCA, merge the datasets back together"
   ]
  },
  {
   "cell_type": "code",
   "execution_count": 8,
   "metadata": {},
   "outputs": [
    {
     "name": "stdout",
     "output_type": "stream",
     "text": [
      "Final DataFrame shape: (1607, 28)\n",
      "                    0          1         2          3         4          5  \\\n",
      "Primary ID                                                                   \n",
      "BCS1_S1     15.040758  11.898574 -0.559357  -4.244448 -6.108275   5.193660   \n",
      "BCS1_S1     15.040758  11.898574 -0.559357  -4.244448 -6.108275   5.193660   \n",
      "BCS1_S2     15.040758  11.898574 -0.559357  -4.244448 -6.108275   5.193660   \n",
      "BCS1_S2     15.040758  11.898574 -0.559357  -4.244448 -6.108275   5.193660   \n",
      "BCS1_S3     15.040758  11.898574 -0.559357  -4.244448 -6.108275   5.193660   \n",
      "...               ...        ...       ...        ...       ...        ...   \n",
      "PS-S18      -6.372475   5.878233 -1.844172  11.395460  3.400629 -14.099519   \n",
      "PS-S19      -6.372475   5.878233 -1.844172  11.395460  3.400629 -14.099519   \n",
      "PS-S19      -6.372475   5.878233 -1.844172  11.395460  3.400629 -14.099519   \n",
      "PS-S20      -6.372475   5.878233 -1.844172  11.395460  3.400629 -14.099519   \n",
      "PS-S20      -6.372475   5.878233 -1.844172  11.395460  3.400629 -14.099519   \n",
      "\n",
      "                   6          7          8         0  ...         2         3  \\\n",
      "Primary ID                                            ...                       \n",
      "BCS1_S1     0.926405   6.627692  -2.188991  2.551021  ...  0.555247  1.003252   \n",
      "BCS1_S1     0.926405   6.627692  -2.188991  2.551021  ...  0.555247  1.003252   \n",
      "BCS1_S2     0.926405   6.627692  -2.188991  2.551021  ...  0.555247  1.003252   \n",
      "BCS1_S2     0.926405   6.627692  -2.188991  2.551021  ...  0.555247  1.003252   \n",
      "BCS1_S3     0.926405   6.627692  -2.188991  2.551021  ...  0.555247  1.003252   \n",
      "...              ...        ...        ...       ...  ...       ...       ...   \n",
      "PS-S18      8.185611  10.989569  13.954430 -0.832286  ...  1.610551 -3.133331   \n",
      "PS-S19      8.185611  10.989569  13.954430 -0.832286  ...  1.610551 -3.133331   \n",
      "PS-S19      8.185611  10.989569  13.954430 -0.832286  ...  1.610551 -3.133331   \n",
      "PS-S20      8.185611  10.989569  13.954430 -0.832286  ...  1.610551 -3.133331   \n",
      "PS-S20      8.185611  10.989569  13.954430 -0.832286  ...  1.610551 -3.133331   \n",
      "\n",
      "                   4         5         6  3PBT-Diam (mm)  3PBT-Radius (mm)  \\\n",
      "Primary ID                                                                   \n",
      "BCS1_S1    -1.066953 -0.196191 -0.480698            1.88             0.940   \n",
      "BCS1_S1    -1.066953 -0.196191 -0.480698            1.88             0.940   \n",
      "BCS1_S2    -1.066953 -0.196191 -0.480698            1.77             0.885   \n",
      "BCS1_S2    -1.066953 -0.196191 -0.480698            1.77             0.885   \n",
      "BCS1_S3    -1.066953 -0.196191 -0.480698            1.82             0.910   \n",
      "...              ...       ...       ...             ...               ...   \n",
      "PS-S18      3.470082 -1.939209  0.524936            1.83             0.915   \n",
      "PS-S19      3.470082 -1.939209  0.524936            1.89             0.945   \n",
      "PS-S19      3.470082 -1.939209  0.524936            1.89             0.945   \n",
      "PS-S20      3.470082 -1.939209  0.524936            1.77             0.885   \n",
      "PS-S20      3.470082 -1.939209  0.524936            1.77             0.885   \n",
      "\n",
      "            API %  Plast %  ST-Diam (mm)  \n",
      "Primary ID                                \n",
      "BCS1_S1         5      0.0          1.99  \n",
      "BCS1_S1         5      0.0          1.99  \n",
      "BCS1_S2         5      0.0          1.91  \n",
      "BCS1_S2         5      0.0          1.91  \n",
      "BCS1_S3         5      0.0          1.91  \n",
      "...           ...      ...           ...  \n",
      "PS-S18         25     15.0          1.92  \n",
      "PS-S19         25     15.0          1.84  \n",
      "PS-S19         25     15.0          1.84  \n",
      "PS-S20         25     15.0          1.90  \n",
      "PS-S20         25     15.0          1.90  \n",
      "\n",
      "[1607 rows x 28 columns]\n"
     ]
    }
   ],
   "source": [
    "# Convert PCA results to DataFrames with 'Primary ID' as the index\n",
    "X_padel_pca_df = pd.DataFrame(X_padel_pca, index=X['Primary ID'])\n",
    "X_spartan_pca_df = pd.DataFrame(X_spartan_pca, index=X['Primary ID'])\n",
    "X_swissadme_pca_df = pd.DataFrame(X_swissadme_pca, index=X['Primary ID'])\n",
    "\n",
    "# Ensure that the other features DataFrame is also indexed by 'Primary ID'\n",
    "other_features_cols = X.columns.difference(padel_cols + spartan_cols + swissadme_cols)\n",
    "X_other_features = X[other_features_cols].set_index('Primary ID')\n",
    "\n",
    "# Ensure that the target DataFrame is also indexed by 'Primary ID'\n",
    "y.set_index('Primary ID', inplace=True)\n",
    "\n",
    "# Merge the PCA-transformed data back together with the rest of the features\n",
    "X_final = pd.concat([X_padel_pca_df, X_spartan_pca_df, X_swissadme_pca_df, X_other_features], axis=1)\n",
    "\n",
    "# Make sure all the column names are strings\n",
    "X_final.columns = X_final.columns.astype(str)\n",
    "\n",
    "# Verify the final DataFrame shape and columns\n",
    "print(f\"Final DataFrame shape: {X_final.shape}\")\n",
    "print(X_final)"
   ]
  },
  {
   "cell_type": "markdown",
   "metadata": {},
   "source": [
    "Check for duplicates in the column names between the 3 data sources (Padel, Spartan, SwissADME)"
   ]
  },
  {
   "cell_type": "code",
   "execution_count": 9,
   "metadata": {},
   "outputs": [
    {
     "data": {
      "text/plain": [
       "Index(['BCS1_S1', 'BCS1_S1', 'BCS1_S2', 'BCS1_S2', 'BCS1_S3', 'BCS1_S3',\n",
       "       'BCS1_S4', 'BCS1_S4', 'BCS1_S6', 'BCS1_S6',\n",
       "       ...\n",
       "       'PS-S16', 'PS-S16', 'PS-S17', 'PS-S17', 'PS-S18', 'PS-S18', 'PS-S19',\n",
       "       'PS-S19', 'PS-S20', 'PS-S20'],\n",
       "      dtype='object', name='Primary ID', length=1607)"
      ]
     },
     "execution_count": 9,
     "metadata": {},
     "output_type": "execute_result"
    }
   ],
   "source": [
    "X_final.index"
   ]
  },
  {
   "cell_type": "code",
   "execution_count": 10,
   "metadata": {},
   "outputs": [
    {
     "data": {
      "text/plain": [
       "Index(['0', '1', '2', '3', '4', '5', '6', '7', '8', '0', '1', '2', '3', '4',\n",
       "       '5', '6', '0', '1', '2', '3', '4', '5', '6', '3PBT-Diam (mm)',\n",
       "       '3PBT-Radius (mm)', 'API %', 'Plast %', 'ST-Diam (mm)'],\n",
       "      dtype='object')"
      ]
     },
     "execution_count": 10,
     "metadata": {},
     "output_type": "execute_result"
    }
   ],
   "source": [
    "X_final.columns"
   ]
  },
  {
   "cell_type": "code",
   "execution_count": 11,
   "metadata": {},
   "outputs": [
    {
     "data": {
      "text/plain": [
       "Index(['BCS1_S1', 'BCS1_S1', 'BCS1_S2', 'BCS1_S2', 'BCS1_S3', 'BCS1_S3',\n",
       "       'BCS1_S4', 'BCS1_S4', 'BCS1_S6', 'BCS1_S6',\n",
       "       ...\n",
       "       'PS-S16', 'PS-S16', 'PS-S17', 'PS-S17', 'PS-S18', 'PS-S18', 'PS-S19',\n",
       "       'PS-S19', 'PS-S20', 'PS-S20'],\n",
       "      dtype='object', name='Primary ID', length=1607)"
      ]
     },
     "execution_count": 11,
     "metadata": {},
     "output_type": "execute_result"
    }
   ],
   "source": [
    "y.index"
   ]
  },
  {
   "cell_type": "markdown",
   "metadata": {},
   "source": [
    "# Train ANN Multiregressor"
   ]
  },
  {
   "cell_type": "code",
   "execution_count": 12,
   "metadata": {},
   "outputs": [],
   "source": [
    "# Step 1: Import necessary libraries\n",
    "import tensorflow as tf\n",
    "from tensorflow.keras.models import Sequential\n",
    "from tensorflow.keras.layers import Dense\n",
    "from sklearn.model_selection import train_test_split\n",
    "from sklearn.preprocessing import StandardScaler\n"
   ]
  },
  {
   "cell_type": "code",
   "execution_count": 13,
   "metadata": {},
   "outputs": [],
   "source": [
    "# Step 2: Prepare the data \n",
    "# Split the data into training and testing sets\n",
    "X_train, X_test, y_train, y_test = train_test_split(X_final, y, test_size=0.2, random_state=42)\n",
    "\n",
    "# Standardize the features\n",
    "scaler = StandardScaler()\n",
    "X_train = scaler.fit_transform(X_train)\n",
    "X_test = scaler.transform(X_test)"
   ]
  },
  {
   "cell_type": "code",
   "execution_count": 14,
   "metadata": {},
   "outputs": [
    {
     "data": {
      "text/plain": [
       "28"
      ]
     },
     "execution_count": 14,
     "metadata": {},
     "output_type": "execute_result"
    }
   ],
   "source": [
    "X_train.shape[1]"
   ]
  },
  {
   "cell_type": "code",
   "execution_count": 15,
   "metadata": {},
   "outputs": [
    {
     "data": {
      "text/plain": [
       "13"
      ]
     },
     "execution_count": 15,
     "metadata": {},
     "output_type": "execute_result"
    }
   ],
   "source": [
    "y_train.shape[1]"
   ]
  },
  {
   "cell_type": "code",
   "execution_count": 48,
   "metadata": {},
   "outputs": [
    {
     "name": "stdout",
     "output_type": "stream",
     "text": [
      "Epoch 1/100\n"
     ]
    },
    {
     "name": "stderr",
     "output_type": "stream",
     "text": [
      "/Users/savencuo/Library/CloudStorage/OneDrive-QIAGENGmbH/Developer/envs/pharma3D_env/lib/python3.12/site-packages/keras/src/layers/core/dense.py:87: UserWarning: Do not pass an `input_shape`/`input_dim` argument to a layer. When using Sequential models, prefer using an `Input(shape)` object as the first layer in the model instead.\n",
      "  super().__init__(activity_regularizer=activity_regularizer, **kwargs)\n"
     ]
    },
    {
     "name": "stdout",
     "output_type": "stream",
     "text": [
      "\u001b[1m33/33\u001b[0m \u001b[32m━━━━━━━━━━━━━━━━━━━━\u001b[0m\u001b[37m\u001b[0m \u001b[1m2s\u001b[0m 41ms/step - loss: 644160537231360.0000 - mean_squared_error: 644160537231360.0000 - val_loss: 142762213113856.0000 - val_mean_squared_error: 142762213113856.0000\n",
      "Epoch 2/100\n",
      "\u001b[1m33/33\u001b[0m \u001b[32m━━━━━━━━━━━━━━━━━━━━\u001b[0m\u001b[37m\u001b[0m \u001b[1m1s\u001b[0m 38ms/step - loss: 404410832257024.0000 - mean_squared_error: 404410832257024.0000 - val_loss: 128026322927616.0000 - val_mean_squared_error: 128026322927616.0000\n",
      "Epoch 3/100\n",
      "\u001b[1m33/33\u001b[0m \u001b[32m━━━━━━━━━━━━━━━━━━━━\u001b[0m\u001b[37m\u001b[0m \u001b[1m1s\u001b[0m 38ms/step - loss: 319526776340480.0000 - mean_squared_error: 319526776340480.0000 - val_loss: 130305608384512.0000 - val_mean_squared_error: 130305608384512.0000\n",
      "Epoch 4/100\n",
      "\u001b[1m33/33\u001b[0m \u001b[32m━━━━━━━━━━━━━━━━━━━━\u001b[0m\u001b[37m\u001b[0m \u001b[1m1s\u001b[0m 39ms/step - loss: 188414511022080.0000 - mean_squared_error: 188414511022080.0000 - val_loss: 230526866685952.0000 - val_mean_squared_error: 230526866685952.0000\n",
      "Epoch 5/100\n",
      "\u001b[1m33/33\u001b[0m \u001b[32m━━━━━━━━━━━━━━━━━━━━\u001b[0m\u001b[37m\u001b[0m \u001b[1m1s\u001b[0m 40ms/step - loss: 287884108103680.0000 - mean_squared_error: 287884108103680.0000 - val_loss: 230601709846528.0000 - val_mean_squared_error: 230601709846528.0000\n",
      "Epoch 6/100\n",
      "\u001b[1m33/33\u001b[0m \u001b[32m━━━━━━━━━━━━━━━━━━━━\u001b[0m\u001b[37m\u001b[0m \u001b[1m1s\u001b[0m 39ms/step - loss: 211396964909056.0000 - mean_squared_error: 211396964909056.0000 - val_loss: 198779827388416.0000 - val_mean_squared_error: 198779827388416.0000\n",
      "Epoch 7/100\n",
      "\u001b[1m33/33\u001b[0m \u001b[32m━━━━━━━━━━━━━━━━━━━━\u001b[0m\u001b[37m\u001b[0m \u001b[1m1s\u001b[0m 39ms/step - loss: 118604297142272.0000 - mean_squared_error: 118604297142272.0000 - val_loss: 154610954141696.0000 - val_mean_squared_error: 154610954141696.0000\n",
      "Epoch 8/100\n",
      "\u001b[1m33/33\u001b[0m \u001b[32m━━━━━━━━━━━━━━━━━━━━\u001b[0m\u001b[37m\u001b[0m \u001b[1m1s\u001b[0m 38ms/step - loss: 131007407718400.0000 - mean_squared_error: 131007407718400.0000 - val_loss: 17672565686272.0000 - val_mean_squared_error: 17672565686272.0000\n",
      "Epoch 9/100\n",
      "\u001b[1m33/33\u001b[0m \u001b[32m━━━━━━━━━━━━━━━━━━━━\u001b[0m\u001b[37m\u001b[0m \u001b[1m1s\u001b[0m 38ms/step - loss: 81252451352576.0000 - mean_squared_error: 81252451352576.0000 - val_loss: 46418760826880.0000 - val_mean_squared_error: 46418760826880.0000\n",
      "Epoch 10/100\n",
      "\u001b[1m33/33\u001b[0m \u001b[32m━━━━━━━━━━━━━━━━━━━━\u001b[0m\u001b[37m\u001b[0m \u001b[1m1s\u001b[0m 40ms/step - loss: 28658645336064.0000 - mean_squared_error: 28658645336064.0000 - val_loss: 5316714430464.0000 - val_mean_squared_error: 5316714430464.0000\n",
      "Epoch 11/100\n",
      "\u001b[1m33/33\u001b[0m \u001b[32m━━━━━━━━━━━━━━━━━━━━\u001b[0m\u001b[37m\u001b[0m \u001b[1m1s\u001b[0m 42ms/step - loss: 32834953674752.0000 - mean_squared_error: 32834953674752.0000 - val_loss: 23462844301312.0000 - val_mean_squared_error: 23462844301312.0000\n",
      "Epoch 12/100\n",
      "\u001b[1m33/33\u001b[0m \u001b[32m━━━━━━━━━━━━━━━━━━━━\u001b[0m\u001b[37m\u001b[0m \u001b[1m1s\u001b[0m 38ms/step - loss: 122862522335232.0000 - mean_squared_error: 122862522335232.0000 - val_loss: 8612251435008.0000 - val_mean_squared_error: 8612251435008.0000\n",
      "Epoch 13/100\n",
      "\u001b[1m33/33\u001b[0m \u001b[32m━━━━━━━━━━━━━━━━━━━━\u001b[0m\u001b[37m\u001b[0m \u001b[1m1s\u001b[0m 39ms/step - loss: 30685697933312.0000 - mean_squared_error: 30685697933312.0000 - val_loss: 18507393662976.0000 - val_mean_squared_error: 18507393662976.0000\n",
      "Epoch 14/100\n",
      "\u001b[1m33/33\u001b[0m \u001b[32m━━━━━━━━━━━━━━━━━━━━\u001b[0m\u001b[37m\u001b[0m \u001b[1m1s\u001b[0m 38ms/step - loss: 44398708523008.0000 - mean_squared_error: 44398708523008.0000 - val_loss: 32113388683264.0000 - val_mean_squared_error: 32113388683264.0000\n",
      "Epoch 15/100\n",
      "\u001b[1m33/33\u001b[0m \u001b[32m━━━━━━━━━━━━━━━━━━━━\u001b[0m\u001b[37m\u001b[0m \u001b[1m1s\u001b[0m 37ms/step - loss: 84329266937856.0000 - mean_squared_error: 84329266937856.0000 - val_loss: 8566999089152.0000 - val_mean_squared_error: 8566999089152.0000\n",
      "Epoch 16/100\n",
      "\u001b[1m33/33\u001b[0m \u001b[32m━━━━━━━━━━━━━━━━━━━━\u001b[0m\u001b[37m\u001b[0m \u001b[1m1s\u001b[0m 37ms/step - loss: 20678824689664.0000 - mean_squared_error: 20678824689664.0000 - val_loss: 11530345119744.0000 - val_mean_squared_error: 11530345119744.0000\n",
      "Epoch 17/100\n",
      "\u001b[1m33/33\u001b[0m \u001b[32m━━━━━━━━━━━━━━━━━━━━\u001b[0m\u001b[37m\u001b[0m \u001b[1m1s\u001b[0m 40ms/step - loss: 85183889932288.0000 - mean_squared_error: 85183889932288.0000 - val_loss: 15738096058368.0000 - val_mean_squared_error: 15738096058368.0000\n",
      "Epoch 18/100\n",
      "\u001b[1m33/33\u001b[0m \u001b[32m━━━━━━━━━━━━━━━━━━━━\u001b[0m\u001b[37m\u001b[0m \u001b[1m1s\u001b[0m 38ms/step - loss: 64376333664256.0000 - mean_squared_error: 64376333664256.0000 - val_loss: 7868898082816.0000 - val_mean_squared_error: 7868898082816.0000\n",
      "Epoch 19/100\n",
      "\u001b[1m33/33\u001b[0m \u001b[32m━━━━━━━━━━━━━━━━━━━━\u001b[0m\u001b[37m\u001b[0m \u001b[1m1s\u001b[0m 37ms/step - loss: 47544918867968.0000 - mean_squared_error: 47544918867968.0000 - val_loss: 21599736561664.0000 - val_mean_squared_error: 21599736561664.0000\n",
      "Epoch 20/100\n",
      "\u001b[1m33/33\u001b[0m \u001b[32m━━━━━━━━━━━━━━━━━━━━\u001b[0m\u001b[37m\u001b[0m \u001b[1m1s\u001b[0m 38ms/step - loss: 40524509609984.0000 - mean_squared_error: 40524509609984.0000 - val_loss: 28811200561152.0000 - val_mean_squared_error: 28811200561152.0000\n",
      "Epoch 21/100\n",
      "\u001b[1m33/33\u001b[0m \u001b[32m━━━━━━━━━━━━━━━━━━━━\u001b[0m\u001b[37m\u001b[0m \u001b[1m1s\u001b[0m 38ms/step - loss: 71908288626688.0000 - mean_squared_error: 71908288626688.0000 - val_loss: 19432281735168.0000 - val_mean_squared_error: 19432281735168.0000\n",
      "Epoch 22/100\n",
      "\u001b[1m33/33\u001b[0m \u001b[32m━━━━━━━━━━━━━━━━━━━━\u001b[0m\u001b[37m\u001b[0m \u001b[1m1s\u001b[0m 37ms/step - loss: 28819308150784.0000 - mean_squared_error: 28819308150784.0000 - val_loss: 16587633459200.0000 - val_mean_squared_error: 16587633459200.0000\n",
      "Epoch 23/100\n",
      "\u001b[1m33/33\u001b[0m \u001b[32m━━━━━━━━━━━━━━━━━━━━\u001b[0m\u001b[37m\u001b[0m \u001b[1m1s\u001b[0m 37ms/step - loss: 26553970851840.0000 - mean_squared_error: 26553970851840.0000 - val_loss: 4534114451456.0000 - val_mean_squared_error: 4534114451456.0000\n",
      "Epoch 24/100\n",
      "\u001b[1m33/33\u001b[0m \u001b[32m━━━━━━━━━━━━━━━━━━━━\u001b[0m\u001b[37m\u001b[0m \u001b[1m1s\u001b[0m 37ms/step - loss: 39179295653888.0000 - mean_squared_error: 39179295653888.0000 - val_loss: 9014404448256.0000 - val_mean_squared_error: 9014404448256.0000\n",
      "Epoch 25/100\n",
      "\u001b[1m33/33\u001b[0m \u001b[32m━━━━━━━━━━━━━━━━━━━━\u001b[0m\u001b[37m\u001b[0m \u001b[1m1s\u001b[0m 37ms/step - loss: 39226338967552.0000 - mean_squared_error: 39226338967552.0000 - val_loss: 6842984431616.0000 - val_mean_squared_error: 6842984431616.0000\n",
      "Epoch 26/100\n",
      "\u001b[1m33/33\u001b[0m \u001b[32m━━━━━━━━━━━━━━━━━━━━\u001b[0m\u001b[37m\u001b[0m \u001b[1m1s\u001b[0m 38ms/step - loss: 43128111235072.0000 - mean_squared_error: 43128111235072.0000 - val_loss: 13453462863872.0000 - val_mean_squared_error: 13453462863872.0000\n",
      "Epoch 27/100\n",
      "\u001b[1m33/33\u001b[0m \u001b[32m━━━━━━━━━━━━━━━━━━━━\u001b[0m\u001b[37m\u001b[0m \u001b[1m1s\u001b[0m 36ms/step - loss: 26432466059264.0000 - mean_squared_error: 26432466059264.0000 - val_loss: 16153711738880.0000 - val_mean_squared_error: 16153711738880.0000\n",
      "Epoch 28/100\n",
      "\u001b[1m33/33\u001b[0m \u001b[32m━━━━━━━━━━━━━━━━━━━━\u001b[0m\u001b[37m\u001b[0m \u001b[1m1s\u001b[0m 36ms/step - loss: 63254109880320.0000 - mean_squared_error: 63254109880320.0000 - val_loss: 12787931676672.0000 - val_mean_squared_error: 12787931676672.0000\n",
      "Epoch 29/100\n",
      "\u001b[1m33/33\u001b[0m \u001b[32m━━━━━━━━━━━━━━━━━━━━\u001b[0m\u001b[37m\u001b[0m \u001b[1m1s\u001b[0m 39ms/step - loss: 30741572354048.0000 - mean_squared_error: 30741572354048.0000 - val_loss: 17867273666560.0000 - val_mean_squared_error: 17867273666560.0000\n",
      "Epoch 30/100\n",
      "\u001b[1m33/33\u001b[0m \u001b[32m━━━━━━━━━━━━━━━━━━━━\u001b[0m\u001b[37m\u001b[0m \u001b[1m1s\u001b[0m 39ms/step - loss: 29185462501376.0000 - mean_squared_error: 29185462501376.0000 - val_loss: 6958113357824.0000 - val_mean_squared_error: 6958113357824.0000\n",
      "Epoch 31/100\n",
      "\u001b[1m33/33\u001b[0m \u001b[32m━━━━━━━━━━━━━━━━━━━━\u001b[0m\u001b[37m\u001b[0m \u001b[1m1s\u001b[0m 38ms/step - loss: 29181312237568.0000 - mean_squared_error: 29181312237568.0000 - val_loss: 34496975994880.0000 - val_mean_squared_error: 34496975994880.0000\n",
      "Epoch 32/100\n",
      "\u001b[1m33/33\u001b[0m \u001b[32m━━━━━━━━━━━━━━━━━━━━\u001b[0m\u001b[37m\u001b[0m \u001b[1m1s\u001b[0m 36ms/step - loss: 63665243947008.0000 - mean_squared_error: 63665243947008.0000 - val_loss: 6857971728384.0000 - val_mean_squared_error: 6857971728384.0000\n",
      "Epoch 33/100\n",
      "\u001b[1m33/33\u001b[0m \u001b[32m━━━━━━━━━━━━━━━━━━━━\u001b[0m\u001b[37m\u001b[0m \u001b[1m1s\u001b[0m 38ms/step - loss: 25699521921024.0000 - mean_squared_error: 25699521921024.0000 - val_loss: 20036871782400.0000 - val_mean_squared_error: 20036871782400.0000\n",
      "Epoch 34/100\n",
      "\u001b[1m33/33\u001b[0m \u001b[32m━━━━━━━━━━━━━━━━━━━━\u001b[0m\u001b[37m\u001b[0m \u001b[1m1s\u001b[0m 38ms/step - loss: 56496587014144.0000 - mean_squared_error: 56496587014144.0000 - val_loss: 4668617916416.0000 - val_mean_squared_error: 4668617916416.0000\n",
      "Epoch 35/100\n",
      "\u001b[1m33/33\u001b[0m \u001b[32m━━━━━━━━━━━━━━━━━━━━\u001b[0m\u001b[37m\u001b[0m \u001b[1m1s\u001b[0m 38ms/step - loss: 64818123898880.0000 - mean_squared_error: 64818123898880.0000 - val_loss: 7520510279680.0000 - val_mean_squared_error: 7520510279680.0000\n",
      "Epoch 36/100\n",
      "\u001b[1m33/33\u001b[0m \u001b[32m━━━━━━━━━━━━━━━━━━━━\u001b[0m\u001b[37m\u001b[0m \u001b[1m1s\u001b[0m 36ms/step - loss: 46766661566464.0000 - mean_squared_error: 46766661566464.0000 - val_loss: 4753705140224.0000 - val_mean_squared_error: 4753705140224.0000\n",
      "Epoch 37/100\n",
      "\u001b[1m33/33\u001b[0m \u001b[32m━━━━━━━━━━━━━━━━━━━━\u001b[0m\u001b[37m\u001b[0m \u001b[1m1s\u001b[0m 36ms/step - loss: 35494108856320.0000 - mean_squared_error: 35494108856320.0000 - val_loss: 11986649743360.0000 - val_mean_squared_error: 11986649743360.0000\n",
      "Epoch 38/100\n",
      "\u001b[1m33/33\u001b[0m \u001b[32m━━━━━━━━━━━━━━━━━━━━\u001b[0m\u001b[37m\u001b[0m \u001b[1m1s\u001b[0m 36ms/step - loss: 48316637249536.0000 - mean_squared_error: 48316637249536.0000 - val_loss: 9812738834432.0000 - val_mean_squared_error: 9812738834432.0000\n",
      "Epoch 39/100\n",
      "\u001b[1m33/33\u001b[0m \u001b[32m━━━━━━━━━━━━━━━━━━━━\u001b[0m\u001b[37m\u001b[0m \u001b[1m1s\u001b[0m 37ms/step - loss: 28523905417216.0000 - mean_squared_error: 28523905417216.0000 - val_loss: 4843259822080.0000 - val_mean_squared_error: 4843259822080.0000\n",
      "Epoch 40/100\n",
      "\u001b[1m33/33\u001b[0m \u001b[32m━━━━━━━━━━━━━━━━━━━━\u001b[0m\u001b[37m\u001b[0m \u001b[1m1s\u001b[0m 36ms/step - loss: 26366311399424.0000 - mean_squared_error: 26366311399424.0000 - val_loss: 6009780699136.0000 - val_mean_squared_error: 6009780699136.0000\n",
      "Epoch 41/100\n",
      "\u001b[1m33/33\u001b[0m \u001b[32m━━━━━━━━━━━━━━━━━━━━\u001b[0m\u001b[37m\u001b[0m \u001b[1m1s\u001b[0m 37ms/step - loss: 33711470936064.0000 - mean_squared_error: 33711470936064.0000 - val_loss: 8436599750656.0000 - val_mean_squared_error: 8436599750656.0000\n",
      "Epoch 42/100\n",
      "\u001b[1m33/33\u001b[0m \u001b[32m━━━━━━━━━━━━━━━━━━━━\u001b[0m\u001b[37m\u001b[0m \u001b[1m1s\u001b[0m 36ms/step - loss: 48909254656000.0000 - mean_squared_error: 48909254656000.0000 - val_loss: 16478579458048.0000 - val_mean_squared_error: 16478579458048.0000\n",
      "Epoch 43/100\n",
      "\u001b[1m33/33\u001b[0m \u001b[32m━━━━━━━━━━━━━━━━━━━━\u001b[0m\u001b[37m\u001b[0m \u001b[1m1s\u001b[0m 36ms/step - loss: 103060349124608.0000 - mean_squared_error: 103060349124608.0000 - val_loss: 6178281619456.0000 - val_mean_squared_error: 6178281619456.0000\n",
      "Epoch 44/100\n",
      "\u001b[1m33/33\u001b[0m \u001b[32m━━━━━━━━━━━━━━━━━━━━\u001b[0m\u001b[37m\u001b[0m \u001b[1m1s\u001b[0m 35ms/step - loss: 24666865401856.0000 - mean_squared_error: 24666865401856.0000 - val_loss: 4616404598784.0000 - val_mean_squared_error: 4616404598784.0000\n",
      "Epoch 45/100\n",
      "\u001b[1m33/33\u001b[0m \u001b[32m━━━━━━━━━━━━━━━━━━━━\u001b[0m\u001b[37m\u001b[0m \u001b[1m1s\u001b[0m 36ms/step - loss: 66022891585536.0000 - mean_squared_error: 66022891585536.0000 - val_loss: 19374691844096.0000 - val_mean_squared_error: 19374691844096.0000\n",
      "Epoch 46/100\n",
      "\u001b[1m33/33\u001b[0m \u001b[32m━━━━━━━━━━━━━━━━━━━━\u001b[0m\u001b[37m\u001b[0m \u001b[1m1s\u001b[0m 36ms/step - loss: 20583479771136.0000 - mean_squared_error: 20583479771136.0000 - val_loss: 4817801969664.0000 - val_mean_squared_error: 4817801969664.0000\n",
      "Epoch 47/100\n",
      "\u001b[1m33/33\u001b[0m \u001b[32m━━━━━━━━━━━━━━━━━━━━\u001b[0m\u001b[37m\u001b[0m \u001b[1m1s\u001b[0m 36ms/step - loss: 29813960081408.0000 - mean_squared_error: 29813960081408.0000 - val_loss: 9238532325376.0000 - val_mean_squared_error: 9238532325376.0000\n",
      "Epoch 48/100\n",
      "\u001b[1m33/33\u001b[0m \u001b[32m━━━━━━━━━━━━━━━━━━━━\u001b[0m\u001b[37m\u001b[0m \u001b[1m1s\u001b[0m 37ms/step - loss: 38300551217152.0000 - mean_squared_error: 38300551217152.0000 - val_loss: 17359049850880.0000 - val_mean_squared_error: 17359049850880.0000\n",
      "Epoch 49/100\n",
      "\u001b[1m33/33\u001b[0m \u001b[32m━━━━━━━━━━━━━━━━━━━━\u001b[0m\u001b[37m\u001b[0m \u001b[1m1s\u001b[0m 36ms/step - loss: 23660387631104.0000 - mean_squared_error: 23660387631104.0000 - val_loss: 9718167764992.0000 - val_mean_squared_error: 9718167764992.0000\n",
      "Epoch 50/100\n",
      "\u001b[1m33/33\u001b[0m \u001b[32m━━━━━━━━━━━━━━━━━━━━\u001b[0m\u001b[37m\u001b[0m \u001b[1m1s\u001b[0m 37ms/step - loss: 39854758952960.0000 - mean_squared_error: 39854758952960.0000 - val_loss: 6185426616320.0000 - val_mean_squared_error: 6185426616320.0000\n",
      "Epoch 51/100\n",
      "\u001b[1m33/33\u001b[0m \u001b[32m━━━━━━━━━━━━━━━━━━━━\u001b[0m\u001b[37m\u001b[0m \u001b[1m1s\u001b[0m 38ms/step - loss: 21817175572480.0000 - mean_squared_error: 21817175572480.0000 - val_loss: 6793394651136.0000 - val_mean_squared_error: 6793394651136.0000\n",
      "Epoch 52/100\n",
      "\u001b[1m33/33\u001b[0m \u001b[32m━━━━━━━━━━━━━━━━━━━━\u001b[0m\u001b[37m\u001b[0m \u001b[1m1s\u001b[0m 39ms/step - loss: 38709856567296.0000 - mean_squared_error: 38709856567296.0000 - val_loss: 6060539117568.0000 - val_mean_squared_error: 6060539117568.0000\n",
      "Epoch 53/100\n",
      "\u001b[1m33/33\u001b[0m \u001b[32m━━━━━━━━━━━━━━━━━━━━\u001b[0m\u001b[37m\u001b[0m \u001b[1m1s\u001b[0m 38ms/step - loss: 41179253047296.0000 - mean_squared_error: 41179253047296.0000 - val_loss: 4277966471168.0000 - val_mean_squared_error: 4277966471168.0000\n",
      "Epoch 54/100\n",
      "\u001b[1m33/33\u001b[0m \u001b[32m━━━━━━━━━━━━━━━━━━━━\u001b[0m\u001b[37m\u001b[0m \u001b[1m1s\u001b[0m 39ms/step - loss: 26750188781568.0000 - mean_squared_error: 26750188781568.0000 - val_loss: 9702338461696.0000 - val_mean_squared_error: 9702338461696.0000\n",
      "Epoch 55/100\n",
      "\u001b[1m33/33\u001b[0m \u001b[32m━━━━━━━━━━━━━━━━━━━━\u001b[0m\u001b[37m\u001b[0m \u001b[1m1s\u001b[0m 36ms/step - loss: 46065696899072.0000 - mean_squared_error: 46065696899072.0000 - val_loss: 5515814895616.0000 - val_mean_squared_error: 5515814895616.0000\n",
      "Epoch 56/100\n",
      "\u001b[1m33/33\u001b[0m \u001b[32m━━━━━━━━━━━━━━━━━━━━\u001b[0m\u001b[37m\u001b[0m \u001b[1m1s\u001b[0m 38ms/step - loss: 36480726597632.0000 - mean_squared_error: 36480726597632.0000 - val_loss: 6050594422784.0000 - val_mean_squared_error: 6050594422784.0000\n",
      "Epoch 57/100\n",
      "\u001b[1m33/33\u001b[0m \u001b[32m━━━━━━━━━━━━━━━━━━━━\u001b[0m\u001b[37m\u001b[0m \u001b[1m1s\u001b[0m 38ms/step - loss: 38032149315584.0000 - mean_squared_error: 38032149315584.0000 - val_loss: 6729290481664.0000 - val_mean_squared_error: 6729290481664.0000\n",
      "Epoch 58/100\n",
      "\u001b[1m33/33\u001b[0m \u001b[32m━━━━━━━━━━━━━━━━━━━━\u001b[0m\u001b[37m\u001b[0m \u001b[1m1s\u001b[0m 36ms/step - loss: 22652928393216.0000 - mean_squared_error: 22652928393216.0000 - val_loss: 18630578274304.0000 - val_mean_squared_error: 18630578274304.0000\n",
      "Epoch 59/100\n",
      "\u001b[1m33/33\u001b[0m \u001b[32m━━━━━━━━━━━━━━━━━━━━\u001b[0m\u001b[37m\u001b[0m \u001b[1m1s\u001b[0m 35ms/step - loss: 67267882647552.0000 - mean_squared_error: 67267882647552.0000 - val_loss: 6374567182336.0000 - val_mean_squared_error: 6374567182336.0000\n",
      "Epoch 60/100\n",
      "\u001b[1m33/33\u001b[0m \u001b[32m━━━━━━━━━━━━━━━━━━━━\u001b[0m\u001b[37m\u001b[0m \u001b[1m1s\u001b[0m 37ms/step - loss: 48220818374656.0000 - mean_squared_error: 48220818374656.0000 - val_loss: 8999148716032.0000 - val_mean_squared_error: 8999148716032.0000\n",
      "Epoch 61/100\n",
      "\u001b[1m33/33\u001b[0m \u001b[32m━━━━━━━━━━━━━━━━━━━━\u001b[0m\u001b[37m\u001b[0m \u001b[1m1s\u001b[0m 36ms/step - loss: 44178595643392.0000 - mean_squared_error: 44178595643392.0000 - val_loss: 6031792406528.0000 - val_mean_squared_error: 6031792406528.0000\n",
      "Epoch 62/100\n",
      "\u001b[1m33/33\u001b[0m \u001b[32m━━━━━━━━━━━━━━━━━━━━\u001b[0m\u001b[37m\u001b[0m \u001b[1m1s\u001b[0m 36ms/step - loss: 23207633485824.0000 - mean_squared_error: 23207633485824.0000 - val_loss: 5401962610688.0000 - val_mean_squared_error: 5401962610688.0000\n",
      "Epoch 63/100\n",
      "\u001b[1m33/33\u001b[0m \u001b[32m━━━━━━━━━━━━━━━━━━━━\u001b[0m\u001b[37m\u001b[0m \u001b[1m1s\u001b[0m 37ms/step - loss: 44423815626752.0000 - mean_squared_error: 44423815626752.0000 - val_loss: 5875287195648.0000 - val_mean_squared_error: 5875287195648.0000\n",
      "Epoch 64/100\n",
      "\u001b[1m33/33\u001b[0m \u001b[32m━━━━━━━━━━━━━━━━━━━━\u001b[0m\u001b[37m\u001b[0m \u001b[1m1s\u001b[0m 37ms/step - loss: 31667385270272.0000 - mean_squared_error: 31667385270272.0000 - val_loss: 15940224811008.0000 - val_mean_squared_error: 15940224811008.0000\n",
      "Epoch 65/100\n",
      "\u001b[1m33/33\u001b[0m \u001b[32m━━━━━━━━━━━━━━━━━━━━\u001b[0m\u001b[37m\u001b[0m \u001b[1m1s\u001b[0m 36ms/step - loss: 22565584109568.0000 - mean_squared_error: 22565584109568.0000 - val_loss: 7800344281088.0000 - val_mean_squared_error: 7800344281088.0000\n",
      "Epoch 66/100\n",
      "\u001b[1m33/33\u001b[0m \u001b[32m━━━━━━━━━━━━━━━━━━━━\u001b[0m\u001b[37m\u001b[0m \u001b[1m1s\u001b[0m 36ms/step - loss: 110613434990592.0000 - mean_squared_error: 110613434990592.0000 - val_loss: 12669309419520.0000 - val_mean_squared_error: 12669309419520.0000\n",
      "Epoch 67/100\n",
      "\u001b[1m33/33\u001b[0m \u001b[32m━━━━━━━━━━━━━━━━━━━━\u001b[0m\u001b[37m\u001b[0m \u001b[1m1s\u001b[0m 36ms/step - loss: 31585072054272.0000 - mean_squared_error: 31585072054272.0000 - val_loss: 6528973668352.0000 - val_mean_squared_error: 6528973668352.0000\n",
      "Epoch 68/100\n",
      "\u001b[1m33/33\u001b[0m \u001b[32m━━━━━━━━━━━━━━━━━━━━\u001b[0m\u001b[37m\u001b[0m \u001b[1m1s\u001b[0m 36ms/step - loss: 41920495616000.0000 - mean_squared_error: 41920495616000.0000 - val_loss: 13643225759744.0000 - val_mean_squared_error: 13643225759744.0000\n",
      "Epoch 69/100\n",
      "\u001b[1m33/33\u001b[0m \u001b[32m━━━━━━━━━━━━━━━━━━━━\u001b[0m\u001b[37m\u001b[0m \u001b[1m1s\u001b[0m 36ms/step - loss: 55163096137728.0000 - mean_squared_error: 55163096137728.0000 - val_loss: 12873762865152.0000 - val_mean_squared_error: 12873762865152.0000\n",
      "Epoch 70/100\n",
      "\u001b[1m33/33\u001b[0m \u001b[32m━━━━━━━━━━━━━━━━━━━━\u001b[0m\u001b[37m\u001b[0m \u001b[1m1s\u001b[0m 36ms/step - loss: 31777122942976.0000 - mean_squared_error: 31777122942976.0000 - val_loss: 12632129011712.0000 - val_mean_squared_error: 12632129011712.0000\n",
      "Epoch 71/100\n",
      "\u001b[1m33/33\u001b[0m \u001b[32m━━━━━━━━━━━━━━━━━━━━\u001b[0m\u001b[37m\u001b[0m \u001b[1m1s\u001b[0m 38ms/step - loss: 59310973386752.0000 - mean_squared_error: 59310973386752.0000 - val_loss: 8841818275840.0000 - val_mean_squared_error: 8841818275840.0000\n",
      "Epoch 72/100\n",
      "\u001b[1m33/33\u001b[0m \u001b[32m━━━━━━━━━━━━━━━━━━━━\u001b[0m\u001b[37m\u001b[0m \u001b[1m1s\u001b[0m 38ms/step - loss: 23050355474432.0000 - mean_squared_error: 23050355474432.0000 - val_loss: 7751959314432.0000 - val_mean_squared_error: 7751959314432.0000\n",
      "Epoch 73/100\n",
      "\u001b[1m33/33\u001b[0m \u001b[32m━━━━━━━━━━━━━━━━━━━━\u001b[0m\u001b[37m\u001b[0m \u001b[1m1s\u001b[0m 37ms/step - loss: 45410919907328.0000 - mean_squared_error: 45410919907328.0000 - val_loss: 6105234669568.0000 - val_mean_squared_error: 6105234669568.0000\n",
      "Epoch 74/100\n",
      "\u001b[1m33/33\u001b[0m \u001b[32m━━━━━━━━━━━━━━━━━━━━\u001b[0m\u001b[37m\u001b[0m \u001b[1m1s\u001b[0m 38ms/step - loss: 24972974096384.0000 - mean_squared_error: 24972974096384.0000 - val_loss: 5303089233920.0000 - val_mean_squared_error: 5303089233920.0000\n",
      "Epoch 75/100\n",
      "\u001b[1m33/33\u001b[0m \u001b[32m━━━━━━━━━━━━━━━━━━━━\u001b[0m\u001b[37m\u001b[0m \u001b[1m1s\u001b[0m 36ms/step - loss: 37497350389760.0000 - mean_squared_error: 37497350389760.0000 - val_loss: 7857987125248.0000 - val_mean_squared_error: 7857987125248.0000\n",
      "Epoch 76/100\n",
      "\u001b[1m33/33\u001b[0m \u001b[32m━━━━━━━━━━━━━━━━━━━━\u001b[0m\u001b[37m\u001b[0m \u001b[1m1s\u001b[0m 36ms/step - loss: 31721783296000.0000 - mean_squared_error: 31721783296000.0000 - val_loss: 6507740004352.0000 - val_mean_squared_error: 6507740004352.0000\n",
      "Epoch 77/100\n",
      "\u001b[1m33/33\u001b[0m \u001b[32m━━━━━━━━━━━━━━━━━━━━\u001b[0m\u001b[37m\u001b[0m \u001b[1m1s\u001b[0m 36ms/step - loss: 31674578501632.0000 - mean_squared_error: 31674578501632.0000 - val_loss: 8101681954816.0000 - val_mean_squared_error: 8101681954816.0000\n",
      "Epoch 78/100\n",
      "\u001b[1m33/33\u001b[0m \u001b[32m━━━━━━━━━━━━━━━━━━━━\u001b[0m\u001b[37m\u001b[0m \u001b[1m1s\u001b[0m 36ms/step - loss: 28854773088256.0000 - mean_squared_error: 28854773088256.0000 - val_loss: 11339614388224.0000 - val_mean_squared_error: 11339614388224.0000\n",
      "Epoch 79/100\n",
      "\u001b[1m33/33\u001b[0m \u001b[32m━━━━━━━━━━━━━━━━━━━━\u001b[0m\u001b[37m\u001b[0m \u001b[1m1s\u001b[0m 37ms/step - loss: 40033822179328.0000 - mean_squared_error: 40033822179328.0000 - val_loss: 3794264653824.0000 - val_mean_squared_error: 3794264653824.0000\n",
      "Epoch 80/100\n",
      "\u001b[1m33/33\u001b[0m \u001b[32m━━━━━━━━━━━━━━━━━━━━\u001b[0m\u001b[37m\u001b[0m \u001b[1m1s\u001b[0m 36ms/step - loss: 43913796648960.0000 - mean_squared_error: 43913796648960.0000 - val_loss: 6589739696128.0000 - val_mean_squared_error: 6589739696128.0000\n",
      "Epoch 81/100\n",
      "\u001b[1m33/33\u001b[0m \u001b[32m━━━━━━━━━━━━━━━━━━━━\u001b[0m\u001b[37m\u001b[0m \u001b[1m1s\u001b[0m 35ms/step - loss: 32368805019648.0000 - mean_squared_error: 32368805019648.0000 - val_loss: 4592001613824.0000 - val_mean_squared_error: 4592001613824.0000\n",
      "Epoch 82/100\n",
      "\u001b[1m33/33\u001b[0m \u001b[32m━━━━━━━━━━━━━━━━━━━━\u001b[0m\u001b[37m\u001b[0m \u001b[1m1s\u001b[0m 36ms/step - loss: 37549670137856.0000 - mean_squared_error: 37549670137856.0000 - val_loss: 4555783274496.0000 - val_mean_squared_error: 4555783274496.0000\n",
      "Epoch 83/100\n",
      "\u001b[1m33/33\u001b[0m \u001b[32m━━━━━━━━━━━━━━━━━━━━\u001b[0m\u001b[37m\u001b[0m \u001b[1m1s\u001b[0m 36ms/step - loss: 59451839086592.0000 - mean_squared_error: 59451839086592.0000 - val_loss: 3560303230976.0000 - val_mean_squared_error: 3560303230976.0000\n",
      "Epoch 84/100\n",
      "\u001b[1m33/33\u001b[0m \u001b[32m━━━━━━━━━━━━━━━━━━━━\u001b[0m\u001b[37m\u001b[0m \u001b[1m1s\u001b[0m 35ms/step - loss: 40598635544576.0000 - mean_squared_error: 40598635544576.0000 - val_loss: 4312885100544.0000 - val_mean_squared_error: 4312885100544.0000\n",
      "Epoch 85/100\n",
      "\u001b[1m33/33\u001b[0m \u001b[32m━━━━━━━━━━━━━━━━━━━━\u001b[0m\u001b[37m\u001b[0m \u001b[1m1s\u001b[0m 37ms/step - loss: 41379770138624.0000 - mean_squared_error: 41379770138624.0000 - val_loss: 3391227691008.0000 - val_mean_squared_error: 3391227691008.0000\n",
      "Epoch 86/100\n",
      "\u001b[1m33/33\u001b[0m \u001b[32m━━━━━━━━━━━━━━━━━━━━\u001b[0m\u001b[37m\u001b[0m \u001b[1m1s\u001b[0m 37ms/step - loss: 29129630023680.0000 - mean_squared_error: 29129630023680.0000 - val_loss: 3506070618112.0000 - val_mean_squared_error: 3506070618112.0000\n",
      "Epoch 87/100\n",
      "\u001b[1m33/33\u001b[0m \u001b[32m━━━━━━━━━━━━━━━━━━━━\u001b[0m\u001b[37m\u001b[0m \u001b[1m1s\u001b[0m 36ms/step - loss: 26745113673728.0000 - mean_squared_error: 26745113673728.0000 - val_loss: 6455001874432.0000 - val_mean_squared_error: 6455001874432.0000\n",
      "Epoch 88/100\n",
      "\u001b[1m33/33\u001b[0m \u001b[32m━━━━━━━━━━━━━━━━━━━━\u001b[0m\u001b[37m\u001b[0m \u001b[1m1s\u001b[0m 36ms/step - loss: 72567423500288.0000 - mean_squared_error: 72567423500288.0000 - val_loss: 7189961900032.0000 - val_mean_squared_error: 7189961900032.0000\n",
      "Epoch 89/100\n",
      "\u001b[1m33/33\u001b[0m \u001b[32m━━━━━━━━━━━━━━━━━━━━\u001b[0m\u001b[37m\u001b[0m \u001b[1m1s\u001b[0m 36ms/step - loss: 27581311090688.0000 - mean_squared_error: 27581311090688.0000 - val_loss: 4049396301824.0000 - val_mean_squared_error: 4049396301824.0000\n",
      "Epoch 90/100\n",
      "\u001b[1m33/33\u001b[0m \u001b[32m━━━━━━━━━━━━━━━━━━━━\u001b[0m\u001b[37m\u001b[0m \u001b[1m1s\u001b[0m 36ms/step - loss: 39719899496448.0000 - mean_squared_error: 39719899496448.0000 - val_loss: 4691509379072.0000 - val_mean_squared_error: 4691509379072.0000\n",
      "Epoch 91/100\n",
      "\u001b[1m33/33\u001b[0m \u001b[32m━━━━━━━━━━━━━━━━━━━━\u001b[0m\u001b[37m\u001b[0m \u001b[1m1s\u001b[0m 36ms/step - loss: 33708969033728.0000 - mean_squared_error: 33708969033728.0000 - val_loss: 3626620157952.0000 - val_mean_squared_error: 3626620157952.0000\n",
      "Epoch 92/100\n",
      "\u001b[1m33/33\u001b[0m \u001b[32m━━━━━━━━━━━━━━━━━━━━\u001b[0m\u001b[37m\u001b[0m \u001b[1m1s\u001b[0m 36ms/step - loss: 42685754769408.0000 - mean_squared_error: 42685754769408.0000 - val_loss: 10491000782848.0000 - val_mean_squared_error: 10491000782848.0000\n",
      "Epoch 93/100\n",
      "\u001b[1m33/33\u001b[0m \u001b[32m━━━━━━━━━━━━━━━━━━━━\u001b[0m\u001b[37m\u001b[0m \u001b[1m1s\u001b[0m 36ms/step - loss: 114758296535040.0000 - mean_squared_error: 114758296535040.0000 - val_loss: 6879840829440.0000 - val_mean_squared_error: 6879840829440.0000\n",
      "Epoch 94/100\n",
      "\u001b[1m33/33\u001b[0m \u001b[32m━━━━━━━━━━━━━━━━━━━━\u001b[0m\u001b[37m\u001b[0m \u001b[1m1s\u001b[0m 37ms/step - loss: 27381769175040.0000 - mean_squared_error: 27381769175040.0000 - val_loss: 9247827951616.0000 - val_mean_squared_error: 9247827951616.0000\n",
      "Epoch 95/100\n",
      "\u001b[1m33/33\u001b[0m \u001b[32m━━━━━━━━━━━━━━━━━━━━\u001b[0m\u001b[37m\u001b[0m \u001b[1m1s\u001b[0m 37ms/step - loss: 46970047561728.0000 - mean_squared_error: 46970047561728.0000 - val_loss: 6613610528768.0000 - val_mean_squared_error: 6613610528768.0000\n",
      "Epoch 96/100\n",
      "\u001b[1m33/33\u001b[0m \u001b[32m━━━━━━━━━━━━━━━━━━━━\u001b[0m\u001b[37m\u001b[0m \u001b[1m1s\u001b[0m 40ms/step - loss: 30319411462144.0000 - mean_squared_error: 30319411462144.0000 - val_loss: 6594123792384.0000 - val_mean_squared_error: 6594123792384.0000\n",
      "Epoch 97/100\n",
      "\u001b[1m33/33\u001b[0m \u001b[32m━━━━━━━━━━━━━━━━━━━━\u001b[0m\u001b[37m\u001b[0m \u001b[1m1s\u001b[0m 38ms/step - loss: 48516365811712.0000 - mean_squared_error: 48516365811712.0000 - val_loss: 11193589694464.0000 - val_mean_squared_error: 11193589694464.0000\n",
      "Epoch 98/100\n",
      "\u001b[1m33/33\u001b[0m \u001b[32m━━━━━━━━━━━━━━━━━━━━\u001b[0m\u001b[37m\u001b[0m \u001b[1m1s\u001b[0m 37ms/step - loss: 67636872347648.0000 - mean_squared_error: 67636872347648.0000 - val_loss: 7340043534336.0000 - val_mean_squared_error: 7340043534336.0000\n",
      "Epoch 99/100\n",
      "\u001b[1m33/33\u001b[0m \u001b[32m━━━━━━━━━━━━━━━━━━━━\u001b[0m\u001b[37m\u001b[0m \u001b[1m1s\u001b[0m 39ms/step - loss: 39717819121664.0000 - mean_squared_error: 39717819121664.0000 - val_loss: 3845444861952.0000 - val_mean_squared_error: 3845444861952.0000\n",
      "Epoch 100/100\n",
      "\u001b[1m33/33\u001b[0m \u001b[32m━━━━━━━━━━━━━━━━━━━━\u001b[0m\u001b[37m\u001b[0m \u001b[1m1s\u001b[0m 37ms/step - loss: 27883835752448.0000 - mean_squared_error: 27883835752448.0000 - val_loss: 4370102747136.0000 - val_mean_squared_error: 4370102747136.0000\n",
      "\u001b[1m11/11\u001b[0m \u001b[32m━━━━━━━━━━━━━━━━━━━━\u001b[0m\u001b[37m\u001b[0m \u001b[1m0s\u001b[0m 6ms/step - loss: 50180850188288.0000 - mean_squared_error: 50180850188288.0000\n",
      "Test Loss: 34525551788032.0\n",
      "Test MSE: 34525551788032.0\n",
      "\u001b[1m11/11\u001b[0m \u001b[32m━━━━━━━━━━━━━━━━━━━━\u001b[0m\u001b[37m\u001b[0m \u001b[1m0s\u001b[0m 7ms/step\n"
     ]
    }
   ],
   "source": [
    "# Step 3: Build the Neural Network model\n",
    "# Initialize the neural network\n",
    "model = Sequential()\n",
    "\n",
    "# Input layer\n",
    "model.add(Dense(64, input_dim=X_train.shape[1], activation='relu'))  # 28 neurons in input layer\n",
    "\n",
    "# Hidden layers\n",
    "model.add(Dense(1024, activation='relu'))  # Hidden layer with 64 neurons\n",
    "\n",
    "model.add(Dense(2048, activation='relu'))  # Hidden layer with 64 neurons\n",
    "\n",
    "model.add(Dense(4056, activation='relu'))  # Hidden layer with 64 neurons\n",
    "\n",
    "model.add(Dense(2048, activation='relu'))  # Hidden layer with 64 neurons\n",
    "\n",
    "model.add(Dense(1024, activation='relu'))  # Hidden layer with 64 neurons\n",
    "\n",
    "\n",
    "\n",
    "# Output layer (number of neurons = number of target variables)\n",
    "model.add(Dense(y_train.shape[1], activation='relu'))  # Linear activation for regression??\n",
    "\n",
    "# Compile the model\n",
    "model.compile(optimizer='adam', loss='mean_squared_error', metrics=['mean_squared_error'])\n",
    "\n",
    "# Step 4: Train the model\n",
    "history = model.fit(X_train, y_train, epochs=100, batch_size=32, validation_split=0.2, verbose=1)\n",
    "\n",
    "# Step 5: Evaluate the model\n",
    "loss, mse = model.evaluate(X_test, y_test)\n",
    "print(f\"Test Loss: {loss}\")\n",
    "print(f\"Test MSE: {mse}\")\n",
    "\n",
    "# Predict on the test set\n",
    "y_pred = model.predict(X_test)"
   ]
  },
  {
   "cell_type": "markdown",
   "metadata": {},
   "source": [
    "Evaluate the model"
   ]
  },
  {
   "cell_type": "code",
   "execution_count": 49,
   "metadata": {},
   "outputs": [
    {
     "name": "stdout",
     "output_type": "stream",
     "text": [
      "Target: ST-Hardness (g), Mean Squared Error: 40029502.717391305\n",
      "Target: ST-Rigidity at 2% deformation (g), Mean Squared Error: 2643642.6242236025\n",
      "Target: ST-Rigidity at 4% deformation (g), Mean Squared Error: 21139766.692546584\n",
      "Target: ST-Peak stress (N/mp), Mean Squared Error: 434591738184994.8\n",
      "Target: 3PBT-Hardness (g), Mean Squared Error: 1106153.8299689442\n",
      "Target: 3PBT-Deformation at hardness (mm), Mean Squared Error: 7.407347826086951\n",
      "Target: 3PBT-Total work (mJ), Mean Squared Error: 823.0353944099389\n",
      "Target: 3PBT-Maximum force (N), Mean Squared Error: 106.23501383021737\n",
      "Target: 3PBT-Peak stress (N/mp), Mean Squared Error: 14240391725735.596\n",
      "Target: 3PBT-Flexural stress (g/mmp) (Samaro 2021 Prasad 2019), Mean Squared Error: 10542.335908152267\n",
      "Target: 3PBT-Flexural strain (%), Mean Squared Error: 63.701136919322536\n",
      "Target: 3PBT-Breaking distance (mm), Mean Squared Error: 7.407347826086951\n",
      "Target: 3PBT-Stiffness (N/mm) (Hu 2022), Mean Squared Error: 28.27483243790483\n",
      "\n",
      "Overall R^2 Score: 0.9532214403152466\n"
     ]
    }
   ],
   "source": [
    "from sklearn.metrics import mean_squared_error, r2_score\n",
    "\n",
    "# Calculate metrics\n",
    "mse = mean_squared_error(y_test, y_pred, multioutput='raw_values')\n",
    "r2 = r2_score(y_test, y_pred, multioutput='variance_weighted')\n",
    "\n",
    "# Print MSE and target variable names\n",
    "for target_name, mse_value in zip(y_test.columns, mse):\n",
    "    print(f\"Target: {target_name}, Mean Squared Error: {mse_value}\")\n",
    "\n",
    "print(f\"\\nOverall R^2 Score: {r2}\")\n"
   ]
  },
  {
   "cell_type": "code",
   "execution_count": 50,
   "metadata": {},
   "outputs": [
    {
     "name": "stdout",
     "output_type": "stream",
     "text": [
      "Target: ST-Hardness (g), Mean Squared Error: 40029502.717391305, R² Score: -3.764690399169922\n",
      "Target: ST-Hardness (g), Variance: 8401279.452229852, Range: 12780.0\n",
      "Relative MSE (MSE/Variance): 4.76469125268375\n",
      "Relative MSE (MSE/Range): 3132.198960672246\n",
      "\n",
      "Target: ST-Rigidity at 2% deformation (g), Mean Squared Error: 2643642.6242236025, R² Score: -2.404682159423828\n",
      "Target: ST-Rigidity at 2% deformation (g), Variance: 776473.1474962385, Range: 3905.0\n",
      "Relative MSE (MSE/Variance): 3.404680036583505\n",
      "Relative MSE (MSE/Range): 676.9891483287074\n",
      "\n",
      "Target: ST-Rigidity at 4% deformation (g), Mean Squared Error: 21139766.692546584, R² Score: -3.1961755752563477\n",
      "Target: ST-Rigidity at 4% deformation (g), Variance: 5037865.8300702125, Range: 9430.0\n",
      "Relative MSE (MSE/Variance): 4.196175008545625\n",
      "Relative MSE (MSE/Range): 2241.756807268991\n",
      "\n",
      "Target: ST-Peak stress (N/mp), Mean Squared Error: 434591738184994.8, R² Score: 0.9546964168548584\n",
      "Target: ST-Peak stress (N/mp), Variance: 9592884092651836.0, Range: 790229366.0\n",
      "Relative MSE (MSE/Variance): 0.045303553549437\n",
      "Relative MSE (MSE/Range): 549956.4517385891\n",
      "\n",
      "Target: 3PBT-Hardness (g), Mean Squared Error: 1106153.8299689442, R² Score: -4.817538261413574\n",
      "Target: 3PBT-Hardness (g), Variance: 190141.35994222833, Range: 2251.5\n",
      "Relative MSE (MSE/Variance): 5.817534019452858\n",
      "Relative MSE (MSE/Range): 491.29639350164075\n",
      "\n",
      "Target: 3PBT-Deformation at hardness (mm), Mean Squared Error: 7.407347826086951, R² Score: -2.664825201034546\n",
      "Target: 3PBT-Deformation at hardness (mm), Variance: 2.0212005902550056, Range: 10.280000000000001\n",
      "Relative MSE (MSE/Variance): 3.6648256792525475\n",
      "Relative MSE (MSE/Range): 0.7205591270512598\n",
      "\n",
      "Target: 3PBT-Total work (mJ), Mean Squared Error: 823.0353944099389, R² Score: -0.48566734790802\n",
      "Target: 3PBT-Total work (mJ), Variance: 553.9837095791057, Range: 155.23\n",
      "Relative MSE (MSE/Variance): 1.4856671417923963\n",
      "Relative MSE (MSE/Range): 5.302038229787663\n",
      "\n",
      "Target: 3PBT-Maximum force (N), Mean Squared Error: 106.23501383021737, R² Score: -4.817536354064941\n",
      "Target: 3PBT-Maximum force (N), Variance: 18.26117620885161, Range: 22.0647\n",
      "Relative MSE (MSE/Variance): 5.817534019452856\n",
      "Relative MSE (MSE/Range): 4.814704656316079\n",
      "\n",
      "Target: 3PBT-Peak stress (N/mp), Mean Squared Error: 14240391725735.596, R² Score: -6.3605499267578125\n",
      "Target: 3PBT-Peak stress (N/mp), Variance: 1934691596337.7144, Range: 7061285.0\n",
      "Relative MSE (MSE/Variance): 7.360548705898153\n",
      "Relative MSE (MSE/Range): 2016685.5927406407\n",
      "\n",
      "Target: 3PBT-Flexural stress (g/mmp) (Samaro 2021 Prasad 2019), Mean Squared Error: 10542.335908152267, R² Score: -5.310025691986084\n",
      "Target: 3PBT-Flexural stress (g/mmp) (Samaro 2021 Prasad 2019), Variance: 1670.7273406430754, Range: 199.24841693795707\n",
      "Relative MSE (MSE/Variance): 6.310027765568524\n",
      "Relative MSE (MSE/Range): 52.91051276675884\n",
      "\n",
      "Target: 3PBT-Flexural strain (%), Mean Squared Error: 63.701136919322536, R² Score: -0.5377881526947021\n",
      "Target: 3PBT-Flexural strain (%), Variance: 41.423867183744335, Range: 84.96\n",
      "Relative MSE (MSE/Variance): 1.5377882667681086\n",
      "Relative MSE (MSE/Range): 0.7497779769223463\n",
      "\n",
      "Target: 3PBT-Breaking distance (mm), Mean Squared Error: 7.407347826086951, R² Score: -2.664825201034546\n",
      "Target: 3PBT-Breaking distance (mm), Variance: 2.0212005902550056, Range: 10.280000000000001\n",
      "Relative MSE (MSE/Variance): 3.6648256792525475\n",
      "Relative MSE (MSE/Range): 0.7205591270512598\n",
      "\n",
      "Target: 3PBT-Stiffness (N/mm) (Hu 2022), Mean Squared Error: 28.27483243790483, R² Score: -4.224061489105225\n",
      "Target: 3PBT-Stiffness (N/mm) (Hu 2022), Variance: 5.4124238504701685, Range: 12.47999164112566\n",
      "Relative MSE (MSE/Variance): 5.224061015740414\n",
      "Relative MSE (MSE/Range): 2.265613091016023\n",
      "\n",
      "\n",
      "Overall R^2 Score: 0.9532214403152466\n"
     ]
    }
   ],
   "source": [
    "from sklearn.metrics import mean_squared_error, r2_score\n",
    "import numpy as np\n",
    "\n",
    "# Calculate metrics\n",
    "mse = mean_squared_error(y_test, y_pred, multioutput='raw_values')  # MSE for each target\n",
    "r2_per_target = r2_score(y_test, y_pred, multioutput='raw_values')  # R² for each target\n",
    "r2_overall = r2_score(y_test, y_pred, multioutput='variance_weighted')  # Overall weighted R²\n",
    "\n",
    "# Calculate variance or range of each target for relative performance\n",
    "variance_targets = np.var(y_test, axis=0)  # Variance of each target in test set\n",
    "range_targets = np.ptp(y_test, axis=0)  # Range (max-min) of each target in test set\n",
    "\n",
    "# Print MSE, R² score, variance, and range for each target\n",
    "for target_name, mse_value, r2_value, variance_value, range_value in zip(y_test.columns, mse, r2_per_target, variance_targets, range_targets):\n",
    "    print(f\"Target: {target_name}, Mean Squared Error: {mse_value}, R² Score: {r2_value}\")\n",
    "    print(f\"Target: {target_name}, Variance: {variance_value}, Range: {range_value}\")\n",
    "    print(f\"Relative MSE (MSE/Variance): {mse_value/variance_value if variance_value != 0 else 'Undefined'}\")\n",
    "    print(f\"Relative MSE (MSE/Range): {mse_value/range_value if range_value != 0 else 'Undefined'}\\n\")\n",
    "\n",
    "# Print overall R² score\n",
    "print(f\"\\nOverall R^2 Score: {r2_overall}\")\n"
   ]
  }
 ],
 "metadata": {
  "kernelspec": {
   "display_name": "pharma3D_env",
   "language": "python",
   "name": "python3"
  },
  "language_info": {
   "codemirror_mode": {
    "name": "ipython",
    "version": 3
   },
   "file_extension": ".py",
   "mimetype": "text/x-python",
   "name": "python",
   "nbconvert_exporter": "python",
   "pygments_lexer": "ipython3",
   "version": "3.10.13"
  }
 },
 "nbformat": 4,
 "nbformat_minor": 2
}
